{
  "nbformat": 4,
  "nbformat_minor": 0,
  "metadata": {
    "colab": {
      "provenance": []
    },
    "kernelspec": {
      "name": "python3",
      "display_name": "Python 3"
    },
    "language_info": {
      "name": "python"
    }
  },
  "cells": [
    {
      "cell_type": "code",
      "execution_count": 1,
      "metadata": {
        "colab": {
          "base_uri": "https://localhost:8080/"
        },
        "id": "kw7RkyXlvLoW",
        "outputId": "74c13119-14ec-45ff-c1c9-4671b7103142"
      },
      "outputs": [
        {
          "output_type": "stream",
          "name": "stdout",
          "text": [
            "觀自在菩薩。行深波若波羅蜜多時。\n",
            "觀自在菩薩。行深波若波羅蜜多時。\n"
          ]
        }
      ],
      "source": [
        "#4.9.1\n",
        "#試運行以下列程式並解釋之:\n",
        "def print_twice(text):\n",
        "    print(text)\n",
        "    print(text)\n",
        "\n",
        "def cat_twice(part1, part2):\n",
        "    cat = part1 + part2\n",
        "    print_twice(text=cat)\n",
        "\n",
        "line1 = '觀自在菩薩。'\n",
        "line2 = '行深波若波羅蜜多時。'\n",
        "cat_twice(part1=line1, part2=line2)\n",
        "#答：print_twice(text)使輸入列印兩遍；cat_twice(part1, part2)使字串相接；cat_twice(part1=line1, part2=line2)使變數line1與變數line2的內容相接，然後列印兩遍。"
      ]
    },
    {
      "cell_type": "code",
      "source": [
        "#4.9.2\n",
        "#試解釋下式結果\n",
        "def print_twice(text):\n",
        "    print(text)\n",
        "    print(text)\n",
        "\n",
        "def cat_twice(part1, part2):\n",
        "    cat = part1 + part2\n",
        "    print_twice(text=cat)\n",
        "\n",
        "line1 = '觀自在菩薩。'\n",
        "line2 = '行深波若波羅蜜多時。'\n",
        "cat_twice(part1=line1, part2=line2)\n",
        "print(cat)\n",
        "#\"cat\"是函式中變數，是局部的，無法於主程式層級直接讀取。"
      ],
      "metadata": {
        "colab": {
          "base_uri": "https://localhost:8080/",
          "height": 216
        },
        "id": "39mmHOhQvg8t",
        "outputId": "41168a12-e8b5-4913-bb82-eaf20de9048e"
      },
      "execution_count": 2,
      "outputs": [
        {
          "output_type": "stream",
          "name": "stdout",
          "text": [
            "觀自在菩薩。行深波若波羅蜜多時。\n",
            "觀自在菩薩。行深波若波羅蜜多時。\n"
          ]
        },
        {
          "output_type": "error",
          "ename": "NameError",
          "evalue": "name 'cat' is not defined",
          "traceback": [
            "\u001b[0;31m---------------------------------------------------------------------------\u001b[0m",
            "\u001b[0;31mNameError\u001b[0m                                 Traceback (most recent call last)",
            "\u001b[0;32m<ipython-input-2-5fa12410c660>\u001b[0m in \u001b[0;36m<cell line: 14>\u001b[0;34m()\u001b[0m\n\u001b[1;32m     12\u001b[0m \u001b[0mline2\u001b[0m \u001b[0;34m=\u001b[0m \u001b[0;34m'行深波若波羅蜜多時。'\u001b[0m\u001b[0;34m\u001b[0m\u001b[0;34m\u001b[0m\u001b[0m\n\u001b[1;32m     13\u001b[0m \u001b[0mcat_twice\u001b[0m\u001b[0;34m(\u001b[0m\u001b[0mpart1\u001b[0m\u001b[0;34m=\u001b[0m\u001b[0mline1\u001b[0m\u001b[0;34m,\u001b[0m \u001b[0mpart2\u001b[0m\u001b[0;34m=\u001b[0m\u001b[0mline2\u001b[0m\u001b[0;34m)\u001b[0m\u001b[0;34m\u001b[0m\u001b[0;34m\u001b[0m\u001b[0m\n\u001b[0;32m---> 14\u001b[0;31m \u001b[0mprint\u001b[0m\u001b[0;34m(\u001b[0m\u001b[0mcat\u001b[0m\u001b[0;34m)\u001b[0m\u001b[0;34m\u001b[0m\u001b[0;34m\u001b[0m\u001b[0m\n\u001b[0m",
            "\u001b[0;31mNameError\u001b[0m: name 'cat' is not defined"
          ]
        }
      ]
    },
    {
      "cell_type": "code",
      "source": [
        "#引自王昱鈞老師講義雲端:https://drive.google.com/drive/folders/1gThJtbDOsVzGI34yT_2JrY5DG125wjfq"
      ],
      "metadata": {
        "id": "xLIsZdMrxET1"
      },
      "execution_count": null,
      "outputs": []
    },
    {
      "cell_type": "code",
      "source": [
        "#4.10.1\n",
        "def compare_value(x, y):\n",
        "    if x>y:\n",
        "        return 1\n",
        "    elif x==y:\n",
        "        return 0\n",
        "    else :\n",
        "        return -1\n",
        "x=eval(input(\"x=\"))\n",
        "y=eval(input(\"y=\"))\n",
        "z=compare_value(x,y)\n",
        "print(z)"
      ],
      "metadata": {
        "colab": {
          "base_uri": "https://localhost:8080/"
        },
        "id": "lIwleL3IyTrj",
        "outputId": "af406a40-ccf3-482b-9632-e60eda342460"
      },
      "execution_count": 8,
      "outputs": [
        {
          "output_type": "stream",
          "name": "stdout",
          "text": [
            "x=-4\n",
            "y=4\n",
            "-1\n"
          ]
        }
      ]
    },
    {
      "cell_type": "code",
      "source": [],
      "metadata": {
        "id": "AZ7KUWz-yr6E"
      },
      "execution_count": null,
      "outputs": []
    }
  ]
}
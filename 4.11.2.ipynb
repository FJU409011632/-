{
  "nbformat": 4,
  "nbformat_minor": 0,
  "metadata": {
    "colab": {
      "provenance": []
    },
    "kernelspec": {
      "name": "python3",
      "display_name": "Python 3"
    },
    "language_info": {
      "name": "python"
    }
  },
  "cells": [
    {
      "cell_type": "code",
      "execution_count": 2,
      "metadata": {
        "colab": {
          "base_uri": "https://localhost:8080/"
        },
        "id": "pd0U2pRloVv_",
        "outputId": "e11f4c33-cb25-4214-ac52-3f193d6a6424"
      },
      "outputs": [
        {
          "output_type": "stream",
          "name": "stdout",
          "text": [
            "x=53\n",
            "True\n",
            "x=53\n",
            "Ture\n"
          ]
        }
      ],
      "source": [
        "def is_odd(x):\n",
        "    if x%2==1:\n",
        "        return True\n",
        "    else:\n",
        "        return False\n",
        "x=eval(input(\"x=\"))\n",
        "z=is_odd(x)\n",
        "print(z)\n",
        "\n",
        "#講義說\"如果 x 是奇數則回傳 Ture \"，因此有以下：\n",
        "def is_odd(x):\n",
        "    if x%2==1:\n",
        "        return \"Ture\"\n",
        "    else:\n",
        "        return False\n",
        "x=eval(input(\"x=\"))\n",
        "z=is_odd(x)\n",
        "print(z)"
      ]
    },
    {
      "cell_type": "code",
      "source": [],
      "metadata": {
        "id": "fIJ16KpFogAg"
      },
      "execution_count": null,
      "outputs": []
    }
  ]
}
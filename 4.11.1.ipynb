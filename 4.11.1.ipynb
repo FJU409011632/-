{
  "nbformat": 4,
  "nbformat_minor": 0,
  "metadata": {
    "colab": {
      "provenance": []
    },
    "kernelspec": {
      "name": "python3",
      "display_name": "Python 3"
    },
    "language_info": {
      "name": "python"
    }
  },
  "cells": [
    {
      "cell_type": "code",
      "execution_count": 2,
      "metadata": {
        "colab": {
          "base_uri": "https://localhost:8080/"
        },
        "id": "dAzTyqyXpBkL",
        "outputId": "5815f97e-e9e9-4ba6-afeb-1ac0a4c0f746"
      },
      "outputs": [
        {
          "output_type": "stream",
          "name": "stdout",
          "text": [
            "底數=4\n",
            "指數=4\n",
            "256.0\n"
          ]
        }
      ],
      "source": [
        "import math\n",
        "def f(x, n):\n",
        "    z=math.pow(x,n)\n",
        "    return z\n",
        "x=eval(input(\"底數=\"))\n",
        "n=eval(input(\"指數=\"))\n",
        "p=f(x, n)\n",
        "print(p)"
      ]
    },
    {
      "cell_type": "code",
      "source": [],
      "metadata": {
        "id": "fwhRUPa5pGlk"
      },
      "execution_count": null,
      "outputs": []
    }
  ]
}
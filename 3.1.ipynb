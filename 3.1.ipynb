{
  "nbformat": 4,
  "nbformat_minor": 0,
  "metadata": {
    "colab": {
      "provenance": []
    },
    "kernelspec": {
      "name": "python3",
      "display_name": "Python 3"
    },
    "language_info": {
      "name": "python"
    }
  },
  "cells": [
    {
      "cell_type": "code",
      "execution_count": null,
      "metadata": {
        "id": "Cd3mCL7MqZDb"
      },
      "outputs": [],
      "source": [
        "#課堂練習1寫程式計算 1 ~ 100 中的所有奇數和\n",
        "s=0\n",
        "for i in range(1,100+1):\n",
        "    if i%2==0:\n",
        "        i==i\n",
        "    else:\n",
        "        s=s+i\n",
        "        #print(i,s)\n",
        "print(s)"
      ]
    }
  ]
}
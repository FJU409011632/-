{
  "nbformat": 4,
  "nbformat_minor": 0,
  "metadata": {
    "colab": {
      "provenance": []
    },
    "kernelspec": {
      "name": "python3",
      "display_name": "Python 3"
    },
    "language_info": {
      "name": "python"
    }
  },
  "cells": [
    {
      "cell_type": "code",
      "execution_count": null,
      "metadata": {
        "id": "HJcbKsx9xexE"
      },
      "outputs": [],
      "source": [
        "u=[]\n",
        "d=[]\n",
        "t=0\n",
        "while t!=-1:\n",
        "  t=eval(input(\"請輸入學生成績(輸入-1表則結算)=\"))\n",
        "  if t>=60:\n",
        "    u.append(t)\n",
        "  elif t==-1:\n",
        "    t=t\n",
        "  else:\n",
        "    d.append(t)\n",
        "nu=len(u)\n",
        "nd=len(d)\n",
        "na=nu+nd\n",
        "ae=(sum(u)+sum(d))/na\n",
        "print(\"全班人數=\",na,\"及格人數=\",nu,\"不及格人數=\",nd,\"全班平均值\",ae)"
      ]
    }
  ]
}